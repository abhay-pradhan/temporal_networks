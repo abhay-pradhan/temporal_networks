{
 "cells": [
  {
   "cell_type": "markdown",
   "id": "ff3506d5",
   "metadata": {},
   "source": [
    "# Imports"
   ]
  },
  {
   "cell_type": "code",
   "execution_count": 27,
   "id": "fdac06cc",
   "metadata": {},
   "outputs": [],
   "source": [
    "import igraph\n",
    "import pandas as pd\n",
    "import configparser\n",
    "import pycountry\n",
    "import random\n",
    "from progress.spinner import MoonSpinner\n",
    "from matplotlib.colors import LinearSegmentedColormap"
   ]
  },
  {
   "cell_type": "markdown",
   "id": "8dcc3099",
   "metadata": {},
   "source": [
    "## Simple configuration and getters and setters"
   ]
  },
  {
   "cell_type": "code",
   "execution_count": 28,
   "id": "dff74f33",
   "metadata": {},
   "outputs": [],
   "source": [
    "def load_config(config_file):\n",
    "    cfg = configparser.ConfigParser()\n",
    "    cfg.read(config_file)\n",
    "    return cfg\n",
    "\n",
    "\n",
    "def get_config(cfg, section, key):\n",
    "    try:\n",
    "        return cfg[section][key]\n",
    "    except KeyError:\n",
    "        print(f'section {section} or key {key} not found')\n",
    "\n",
    "\n",
    "G7 = ['United States', 'United Kingdom', 'Germany', 'France', 'Japan', 'Italy','Canada']\n",
    "BRICS =  ['China', 'Brazil', 'India', 'South Africa', 'Russia']\n",
    "\n",
    "\n",
    "def get_color(country):\n",
    "    if country in G7:\n",
    "        return 'green'\n",
    "    elif country in BRICS:\n",
    "        return 'orange'\n",
    "    else:\n",
    "        return 'lightyellow'\n",
    "\n",
    "\n",
    "def get_country(name):\n",
    "    try:\n",
    "        code = pycountry.countries.get(name=name).alpha_2\n",
    "        return code\n",
    "    except:\n",
    "        tokens = str.split(' ')\n",
    "        return tokens[0][0] + tokens[-1][0]\n",
    "\n",
    "\n",
    "def get_sz(name):\n",
    "    if name in G7:\n",
    "        return 50\n",
    "    elif name in BRICS:\n",
    "        return 50\n",
    "    else:\n",
    "        return 30"
   ]
  },
  {
   "cell_type": "markdown",
   "id": "fc050761",
   "metadata": {},
   "source": [
    "## Funtions that operate on dataframes and graphs"
   ]
  },
  {
   "cell_type": "code",
   "execution_count": 29,
   "id": "fa25e4fe",
   "metadata": {},
   "outputs": [],
   "source": [
    "def load_dataframe(data_file, ts_col, cols_to_load, end_timestep):\n",
    "    df = pd.read_csv(data_file)\n",
    "    df.index = df.index + 1\n",
    "    df = df[cols_to_load]\n",
    "    df[ts_col] = df.index\n",
    "    ret_df = df[df[ts_col] < end_timestep]\n",
    "    tt = max(ret_df[ts_col])\n",
    "    return ret_df, tt\n",
    "\n",
    "\n",
    "def delete_edges(g, t):\n",
    "    g_copy = g.copy()\n",
    "    g_copy.delete_edges(timestep_gt=t)\n",
    "    return g_copy\n",
    "\n",
    "\n",
    "def delete_vertices(g):\n",
    "    g_copy = g.copy()\n",
    "    to_delete_ids = [v.index for v in g_copy.vs if v.degree() == 0]\n",
    "    g_copy.delete_vertices(to_delete_ids)\n",
    "    return g_copy\n",
    "\n",
    "\n",
    "# this takes 2 arguments, the 1st argument is simply the name, the second one is a tuple of colors so that a \n",
    "# particular betweeness will reside within the boundary of the 2 colors specified\n",
    "# Pick the colors from this URL below\n",
    "# https://www.w3schools.com/colors/colors_x11.asp\n",
    "\n",
    "#cmap2 = LinearSegmentedColormap.from_list(\"edge_cmap\", [\"lightblue\", \"midnightblue\"])\n",
    "cmap2 = LinearSegmentedColormap.from_list(\"edge_cmap\", [\"cornflowerblue\", \"darkslateblue\"])\n",
    "\n",
    "\n",
    "def format_graph(graph, country_label: False):\n",
    "    g_copy = graph.copy()\n",
    "\n",
    "    if country_label:\n",
    "        g_copy.vs['label'] = [get_country(name) for name in g_copy.vs['name']]\n",
    "\n",
    "    g_copy.vs['color'] = [get_color(x) for x in g_copy.vs['name']]\n",
    "    g_copy.vs['size'] = [get_sz(name) for name in g_copy.vs['name']]\n",
    "\n",
    "    edge_betweenness = g_copy.edge_betweenness()\n",
    "    if edge_betweenness:\n",
    "        scaled_edge_betweenness = igraph.rescale(edge_betweenness, clamp=True)\n",
    "        g_copy.es[\"color\"] = [cmap2(betweenness) for betweenness in scaled_edge_betweenness]\n",
    "        g_copy.es[\"width\"] = igraph.rescale(edge_betweenness, (0.5, 1.0))\n",
    "\n",
    "    return g_copy\n",
    "\n",
    "\n",
    "def filter_dataframe(df, ts_col, from_countries, num_to_pick):\n",
    "    drop_df = df.drop_duplicates(subset=['FromCty', 'ToCty'], keep='first')\n",
    "    drop_df = drop_df[drop_df['FromCty'].isin(from_countries)]\n",
    "    drop_df = drop_df.reset_index(drop=True)\n",
    "    drop_df[ts_col] = drop_df.index\n",
    "    grouped_df = drop_df.groupby(['FromCty'], as_index=False, sort=False).agg(lambda to: list(to))\n",
    "    grouped_df = grouped_df[['FromCty', 'ToCty', 'timestep']]\n",
    "    grouped_df['timestep'] = grouped_df.index\n",
    "    grouped_df['ToCty'] = grouped_df['ToCty'].map(lambda x: random.sample(x, num_to_pick))\n",
    "    grouped_df = grouped_df.apply(pd.Series.explode).reset_index()\n",
    "\n",
    "    # now randomly shuffling the rows\n",
    "    grouped_df = grouped_df.sample(frac=1).reset_index(drop=True)\n",
    "    \n",
    "    ret_df = grouped_df[['FromCty', 'ToCty', 'timestep']]\n",
    "    ret_df['timestep'] = ret_df.index\n",
    "\n",
    "    print(f'filtered dataframe size is {len(ret_df.index)}')\n",
    "    return ret_df\n",
    "\n",
    "\n",
    "def construct_graph(layout, df, original_graph, country_label):\n",
    "    old_layout = original_graph.layout(layout, niter=1000, start_temp=0.01, grid='nogrid')\n",
    "    n = 1\n",
    "    sz = len(ret_df.index)\n",
    "    xs = (x / 10 for x in range(0, sz * 10))\n",
    "    for i in xs:\n",
    "        g = delete_edges(original_graph, i)\n",
    "        new_layout = g.layout(layout, niter=1000, seed=old_layout, start_temp=0.01, grid='nogrid')\n",
    "        gg = format_graph(delete_vertices(g), country_label)\n",
    "        n = int(i*10)\n",
    "        tgt = f'{output_folder}/example{n}.png'\n",
    "        igraph.plot(gg, layout=new_layout, target=tgt, bbox=(1600,900), margin=50)\n",
    "        old_layout = new_layout.copy()\n",
    "        n += 1"
   ]
  },
  {
   "cell_type": "markdown",
   "id": "b6ec1cf7",
   "metadata": {},
   "source": [
    "## Loading configuration (please create animation/ folder)"
   ]
  },
  {
   "cell_type": "code",
   "execution_count": 30,
   "id": "be468696",
   "metadata": {},
   "outputs": [
    {
     "name": "stdout",
     "output_type": "stream",
     "text": [
      "\n",
      "Readin from : Exports_QTY.csv,\n",
      "timestep col: timestep,\n",
      "start_timestep: 5,\n",
      "end_timestep: 96000,\n",
      "writing to folder: animation \n",
      "country_label: True\n",
      "\n",
      "total simulation time is 95999\n"
     ]
    }
   ],
   "source": [
    "cfg = load_config(\"config.ini\")\n",
    "\n",
    "data_file = get_config(cfg, 'Data', 'data_file')\n",
    "output_folder = get_config(cfg, 'Data', 'output_folder')\n",
    "\n",
    "ts_col = get_config(cfg, 'Simulation', 'timestep_col_name')\n",
    "start_ts = int(get_config(cfg, 'Simulation', 'start_timestep'))\n",
    "end_ts = int(get_config(cfg, 'Simulation', 'end_timestep'))\n",
    "\n",
    "country_label = True if cfg['Format']['country_label'] == 'True' else False\n",
    "layout_name = cfg['Format']['layout_name']\n",
    "\n",
    "str= f'''\n",
    "Readin from : {data_file},\n",
    "timestep col: {ts_col},\n",
    "start_timestep: {start_ts},\n",
    "end_timestep: {end_ts},\n",
    "writing to folder: {output_folder} \n",
    "country_label: {country_label}\n",
    "'''\n",
    "print(str)\n",
    "\n",
    "cols_to_load = ['FromCty', 'ToCty']\n",
    "df, total_time = load_dataframe(data_file, ts_col, cols_to_load, end_ts)\n",
    "\n",
    "print(f'total simulation time is {total_time}')"
   ]
  },
  {
   "cell_type": "code",
   "execution_count": 31,
   "id": "ad2c1a22",
   "metadata": {},
   "outputs": [
    {
     "name": "stdout",
     "output_type": "stream",
     "text": [
      "Reading from Exports_QTY.csv with timestep column name timestep start_timestep 5, end_timestep 96000 and writing to output_folder animation with country_labels: True\n",
      "total simulation time is 95999\n"
     ]
    }
   ],
   "source": [
    "print(f'Reading from {data_file} with timestep column name {ts_col} start_timestep {start_ts}, end_timestep {end_ts} and writing to output_folder {output_folder} with country_labels: {country_label}')\n",
    "df, total_time = load_dataframe(data_file, ts_col, cols_to_load, end_ts)\n",
    "print(f'total simulation time is {total_time}')\n"
   ]
  },
  {
   "cell_type": "code",
   "execution_count": 32,
   "id": "d8e0f735",
   "metadata": {},
   "outputs": [
    {
     "data": {
      "text/html": [
       "<div>\n",
       "<style scoped>\n",
       "    .dataframe tbody tr th:only-of-type {\n",
       "        vertical-align: middle;\n",
       "    }\n",
       "\n",
       "    .dataframe tbody tr th {\n",
       "        vertical-align: top;\n",
       "    }\n",
       "\n",
       "    .dataframe thead th {\n",
       "        text-align: right;\n",
       "    }\n",
       "</style>\n",
       "<table border=\"1\" class=\"dataframe\">\n",
       "  <thead>\n",
       "    <tr style=\"text-align: right;\">\n",
       "      <th></th>\n",
       "      <th>FromCty</th>\n",
       "      <th>ToCty</th>\n",
       "      <th>timestep</th>\n",
       "    </tr>\n",
       "  </thead>\n",
       "  <tbody>\n",
       "    <tr>\n",
       "      <th>1</th>\n",
       "      <td>France</td>\n",
       "      <td>Afghanistan</td>\n",
       "      <td>1</td>\n",
       "    </tr>\n",
       "    <tr>\n",
       "      <th>2</th>\n",
       "      <td>France</td>\n",
       "      <td>Albania</td>\n",
       "      <td>2</td>\n",
       "    </tr>\n",
       "    <tr>\n",
       "      <th>3</th>\n",
       "      <td>France</td>\n",
       "      <td>Algeria</td>\n",
       "      <td>3</td>\n",
       "    </tr>\n",
       "    <tr>\n",
       "      <th>4</th>\n",
       "      <td>France</td>\n",
       "      <td>Andorra</td>\n",
       "      <td>4</td>\n",
       "    </tr>\n",
       "    <tr>\n",
       "      <th>5</th>\n",
       "      <td>France</td>\n",
       "      <td>Angola</td>\n",
       "      <td>5</td>\n",
       "    </tr>\n",
       "    <tr>\n",
       "      <th>...</th>\n",
       "      <td>...</td>\n",
       "      <td>...</td>\n",
       "      <td>...</td>\n",
       "    </tr>\n",
       "    <tr>\n",
       "      <th>95995</th>\n",
       "      <td>Ethiopia</td>\n",
       "      <td>Zambia</td>\n",
       "      <td>95995</td>\n",
       "    </tr>\n",
       "    <tr>\n",
       "      <th>95996</th>\n",
       "      <td>Ethiopia</td>\n",
       "      <td>Zimbabwe</td>\n",
       "      <td>95996</td>\n",
       "    </tr>\n",
       "    <tr>\n",
       "      <th>95997</th>\n",
       "      <td>Senegal</td>\n",
       "      <td>Angola</td>\n",
       "      <td>95997</td>\n",
       "    </tr>\n",
       "    <tr>\n",
       "      <th>95998</th>\n",
       "      <td>Senegal</td>\n",
       "      <td>Antigua &amp; Barbuda</td>\n",
       "      <td>95998</td>\n",
       "    </tr>\n",
       "    <tr>\n",
       "      <th>95999</th>\n",
       "      <td>Senegal</td>\n",
       "      <td>Australia</td>\n",
       "      <td>95999</td>\n",
       "    </tr>\n",
       "  </tbody>\n",
       "</table>\n",
       "<p>95999 rows × 3 columns</p>\n",
       "</div>"
      ],
      "text/plain": [
       "        FromCty              ToCty  timestep\n",
       "1        France        Afghanistan         1\n",
       "2        France            Albania         2\n",
       "3        France            Algeria         3\n",
       "4        France            Andorra         4\n",
       "5        France             Angola         5\n",
       "...         ...                ...       ...\n",
       "95995  Ethiopia             Zambia     95995\n",
       "95996  Ethiopia           Zimbabwe     95996\n",
       "95997   Senegal             Angola     95997\n",
       "95998   Senegal  Antigua & Barbuda     95998\n",
       "95999   Senegal          Australia     95999\n",
       "\n",
       "[95999 rows x 3 columns]"
      ]
     },
     "execution_count": 32,
     "metadata": {},
     "output_type": "execute_result"
    }
   ],
   "source": [
    "df"
   ]
  },
  {
   "cell_type": "code",
   "execution_count": 34,
   "id": "6f6333ca",
   "metadata": {},
   "outputs": [
    {
     "name": "stderr",
     "output_type": "stream",
     "text": [
      "/Users/abhaymacbook/projects/yaacov/temporal_networks/venv/lib/python3.6/site-packages/ipykernel_launcher.py:66: SettingWithCopyWarning: \n",
      "A value is trying to be set on a copy of a slice from a DataFrame.\n",
      "Try using .loc[row_indexer,col_indexer] = value instead\n",
      "\n",
      "See the caveats in the documentation: https://pandas.pydata.org/pandas-docs/stable/user_guide/indexing.html#returning-a-view-versus-a-copy\n"
     ]
    },
    {
     "name": "stdout",
     "output_type": "stream",
     "text": [
      "filtered dataframe size is 88\n"
     ]
    }
   ],
   "source": [
    "from_countries = set(G7 + BRICS)\n",
    "ret_df = filter_dataframe(df, ts_col, from_countries, 8)\n",
    "original_graph = igraph.Graph.DataFrame(ret_df, directed=False, use_vids=False)\n",
    "construct_graph(layout_name, ret_df, original_graph, country_label)"
   ]
  },
  {
   "cell_type": "markdown",
   "id": "adfd7bf3",
   "metadata": {},
   "source": [
    "## functions for betweenness and degree out algorithms. You need the ray library to make this run on multiple cores"
   ]
  },
  {
   "cell_type": "code",
   "execution_count": null,
   "id": "049e36aa",
   "metadata": {},
   "outputs": [],
   "source": [
    "import ray"
   ]
  },
  {
   "cell_type": "code",
   "execution_count": null,
   "id": "78576e89",
   "metadata": {},
   "outputs": [],
   "source": [
    "@ray.remote\n",
    "def betweenness(original_graph, ts):\n",
    "    print(f'generating betweenness for ts: {ts}')\n",
    "    g = delete_vertices(delete_edges(original_graph, ts))\n",
    "    df = pd.DataFrame([igraph.rescale(g.betweenness(), (0.1, 1))], columns=[v['name'] for v in g.vs], index=[ts])\n",
    "    return df\n",
    "\n",
    "\n",
    "def generate_betweenness_timeseries(original_graph, df, ts_col):\n",
    "    ret_df = pd.DataFrame()\n",
    "    results = ray.get([betweenness.remote(original_graph, ts) for ts in df[ts_col]])\n",
    "    for i in results:\n",
    "        print('done betweenness')\n",
    "        ret_df = ret_df.append(i)\n",
    "    return ret_df\n",
    "\n",
    "\n",
    "def filter_betweenness(df, start_year):\n",
    "    drop_df = df.drop_duplicates(subset=['FromCty', 'ToCty', 'Year'], keep='last')\n",
    "    ret_df = drop_df.loc[drop_df['Year'] >= start_year]\n",
    "    return ret_df\n",
    "\n",
    "\n",
    "def degree_out(graph, ts):\n",
    "    g = delete_vertices(delete_edges(graph, ts))\n",
    "    deg = [v.degree(mode='out') for v in g.vs]\n",
    "    df = pd.DataFrame([deg], columns=[v['name'] for v in g.vs], index=[ts])\n",
    "    return df\n",
    "\n",
    "\n",
    "def generate_degree_timeseries(original_graph, df, ts_col):\n",
    "    ret_df = pd.DataFrame()\n",
    "    results = [degree_out(original_graph, ts) for ts in df[ts_col]]\n",
    "    for i in results:\n",
    "        ret_df = ret_df.append(i)\n",
    "\n",
    "    return ret_df\n",
    "\n",
    "def plot_and_save(df, filename, col_name):\n",
    "    df_plot = df.plot()\n",
    "    df_plot.set_xlabel('timestep')\n",
    "    df_plot.set_ylabel(col_name)\n",
    "    df_fig = df_plot.get_figure()\n",
    "    df_fig.savefig(filename)"
   ]
  },
  {
   "cell_type": "markdown",
   "id": "c1de446c",
   "metadata": {},
   "source": [
    "## Run betweeness (this takes time so use ray)"
   ]
  },
  {
   "cell_type": "code",
   "execution_count": null,
   "id": "b6f3ff77",
   "metadata": {},
   "outputs": [],
   "source": [
    "original_graph = igraph.Graph.DataFrame(df, directed=False, use_vids=False)\n",
    "\n",
    "between_df = generate_betweenness_timeseries(original_graph, df, ts_col)\n",
    "between_df.to_csv('betweenness.csv')\n",
    "\n",
    "g7_betweenness_df = between_df[G7]\n",
    "g7_betweenness_df.to_csv('g7_betweenness.csv')\n",
    "out_file=f'{output_folder}/g7.png'\n",
    "plot_and_save(g7_betweenness_df, out_file, 'betweenness')\n",
    "\n",
    "brics_betweenness_df = between_df[BRICS]\n",
    "brics_betweenness_df.to_csv('brics_betweenness.csv')\n",
    "out_file=f'{output_folder}/brics.png'\n",
    "plot_and_save(brics_betweenness_df, f'{output_folder}/brics.png')"
   ]
  },
  {
   "cell_type": "markdown",
   "id": "a93d1042",
   "metadata": {},
   "source": [
    "## Run degree_out"
   ]
  },
  {
   "cell_type": "code",
   "execution_count": null,
   "id": "80b18b0b",
   "metadata": {},
   "outputs": [],
   "source": [
    "original_graph = igraph.Graph.DataFrame(df, directed=False, use_vids=False)\n",
    "\n",
    "degree_out_df = generate_degree_timeseries(original_graph, df, ts_col)\n",
    "g7_degree_out_df = degree_out_df[G7]\n",
    "g7_degree_out_df.to_csv('g7_degree.csv')\n",
    "out_file=f'{output_folder}/g7_degree.png'\n",
    "plot_and_save(g7_degree_out_df, out_file, 'degree')\n",
    "\n",
    "brics_degree_out_df = degree_out_df[BRICS]\n",
    "brics_degree_out_df.to_csv('brics_degree.csv')\n",
    "out_file=f'{output_folder}/brics_degree.png'\n",
    "plot_and_save(brics_degree_out_df, out_file, 'degree')"
   ]
  },
  {
   "cell_type": "code",
   "execution_count": null,
   "id": "530b1a79",
   "metadata": {},
   "outputs": [],
   "source": []
  }
 ],
 "metadata": {
  "kernelspec": {
   "display_name": "venv",
   "language": "python",
   "name": "venv"
  },
  "language_info": {
   "codemirror_mode": {
    "name": "ipython",
    "version": 3
   },
   "file_extension": ".py",
   "mimetype": "text/x-python",
   "name": "python",
   "nbconvert_exporter": "python",
   "pygments_lexer": "ipython3",
   "version": "3.6.8"
  }
 },
 "nbformat": 4,
 "nbformat_minor": 5
}
